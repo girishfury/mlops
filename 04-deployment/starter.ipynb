{
 "cells": [
  {
   "cell_type": "code",
   "execution_count": 76,
   "id": "2c51efaa",
   "metadata": {},
   "outputs": [
    {
     "name": "stdout",
     "output_type": "stream",
     "text": [
      "scikit-learn==1.6.1\n"
     ]
    }
   ],
   "source": [
    "!pip freeze | grep scikit-learn"
   ]
  },
  {
   "cell_type": "code",
   "execution_count": 77,
   "id": "4acf73a0-51b5-4663-9bb8-8eb947863e17",
   "metadata": {},
   "outputs": [
    {
     "name": "stdout",
     "output_type": "stream",
     "text": [
      "Python 3.9.6\n"
     ]
    }
   ],
   "source": [
    "!python -V"
   ]
  },
  {
   "cell_type": "code",
   "execution_count": 78,
   "id": "0ef880a0",
   "metadata": {},
   "outputs": [],
   "source": [
    "import os\n",
    "import pickle\n",
    "import pandas as pd"
   ]
  },
  {
   "cell_type": "code",
   "execution_count": 79,
   "id": "4854399a",
   "metadata": {},
   "outputs": [
    {
     "name": "stdout",
     "output_type": "stream",
     "text": [
      "https://d37ci6vzurychx.cloudfront.net/trip-data/yellow_tripdata_2023-03.parquet\n"
     ]
    }
   ],
   "source": [
    "year = 2023\n",
    "month = 3\n",
    "filename = f\"https://d37ci6vzurychx.cloudfront.net/trip-data/yellow_tripdata_{year:04d}-{month:02d}.parquet\"\n",
    "output_file = 'output.parquet'\n",
    "print(filename)\n",
    "df = read_data(filename)"
   ]
  },
  {
   "cell_type": "code",
   "execution_count": 80,
   "id": "7836ccfd",
   "metadata": {},
   "outputs": [
    {
     "name": "stderr",
     "output_type": "stream",
     "text": [
      "/Users/girish_balwani/girish/girish-mlops/lib/python3.9/site-packages/sklearn/base.py:380: InconsistentVersionWarning: Trying to unpickle estimator DictVectorizer from version 1.5.0 when using version 1.6.1. This might lead to breaking code or invalid results. Use at your own risk. For more info please refer to:\n",
      "https://scikit-learn.org/stable/model_persistence.html#security-maintainability-limitations\n",
      "  warnings.warn(\n",
      "/Users/girish_balwani/girish/girish-mlops/lib/python3.9/site-packages/sklearn/base.py:380: InconsistentVersionWarning: Trying to unpickle estimator LinearRegression from version 1.5.0 when using version 1.6.1. This might lead to breaking code or invalid results. Use at your own risk. For more info please refer to:\n",
      "https://scikit-learn.org/stable/model_persistence.html#security-maintainability-limitations\n",
      "  warnings.warn(\n"
     ]
    }
   ],
   "source": [
    "with open('model.bin', 'rb') as f_in:\n",
    "    dv, model = pickle.load(f_in)"
   ]
  },
  {
   "cell_type": "code",
   "execution_count": 81,
   "id": "41c08294",
   "metadata": {},
   "outputs": [],
   "source": [
    "categorical = ['PULocationID', 'DOLocationID']\n",
    "\n",
    "def read_data(filename):\n",
    "    df = pd.read_parquet(filename)\n",
    "    \n",
    "    df['duration'] = df.tpep_dropoff_datetime - df.tpep_pickup_datetime\n",
    "    df['duration'] = df.duration.dt.total_seconds() / 60\n",
    "\n",
    "    df = df[(df.duration >= 1) & (df.duration <= 60)].copy()\n",
    "\n",
    "    df[categorical] = df[categorical].fillna(-1).astype('int').astype('str')\n",
    "    \n",
    "    return df"
   ]
  },
  {
   "cell_type": "code",
   "execution_count": 82,
   "id": "669fda0a",
   "metadata": {},
   "outputs": [
    {
     "data": {
      "text/plain": [
       "array([16.24590642, 26.1347962 , 11.88426424, ..., 11.59533603,\n",
       "       13.11317847, 12.89999218])"
      ]
     },
     "execution_count": 82,
     "metadata": {},
     "output_type": "execute_result"
    }
   ],
   "source": [
    "dicts = df[categorical].to_dict(orient='records')\n",
    "X_val = dv.transform(dicts)\n",
    "y_pred = model.predict(X_val)\n",
    "y_pred\n"
   ]
  },
  {
   "cell_type": "code",
   "execution_count": 83,
   "id": "88952538-35ca-4c4c-8d51-19964c1c9b65",
   "metadata": {},
   "outputs": [
    {
     "name": "stdout",
     "output_type": "stream",
     "text": [
      "The standard deviation of the predicted duration is: 6.247488852238703\n"
     ]
    }
   ],
   "source": [
    "import numpy as np\n",
    "std_dev = np.std(y_pred)\n",
    "print(f\"The standard deviation of the predicted duration is: {std_dev}\")"
   ]
  },
  {
   "cell_type": "code",
   "execution_count": 84,
   "id": "fe414fbd-63ae-4b17-a0d3-8bfef901ccf4",
   "metadata": {},
   "outputs": [],
   "source": [
    "df['ride_id'] = f'{year:04d}/{month:02d}_' + df.index.astype('str')"
   ]
  },
  {
   "cell_type": "code",
   "execution_count": 85,
   "id": "97a3af4a-9741-4af3-bd39-bae968e0cd0f",
   "metadata": {},
   "outputs": [
    {
     "name": "stdout",
     "output_type": "stream",
     "text": [
      "                 ride_id  prediction\n",
      "0              2023/03_0   16.245906\n",
      "1              2023/03_1   26.134796\n",
      "2              2023/03_2   11.884264\n",
      "3              2023/03_3   11.997720\n",
      "4              2023/03_4   10.234486\n",
      "...                  ...         ...\n",
      "3403761  2023/03_3403761   11.952635\n",
      "3403762  2023/03_3403762   20.049958\n",
      "3403763  2023/03_3403763   11.595336\n",
      "3403764  2023/03_3403764   13.113178\n",
      "3403765  2023/03_3403765   12.899992\n",
      "\n",
      "[3316216 rows x 2 columns]\n"
     ]
    }
   ],
   "source": [
    "df_result = df[['ride_id']].copy()  # Include only the `ride_id` column initially\n",
    "df_result['prediction'] = y_pred   # Add predictions as a new column\n",
    "\n",
    "print (df_result)"
   ]
  },
  {
   "cell_type": "code",
   "execution_count": 86,
   "id": "20734705-944e-4b83-a6d8-16ff2914d7da",
   "metadata": {},
   "outputs": [],
   "source": [
    "df_result.to_parquet(\n",
    "    output_file,\n",
    "    engine='pyarrow',\n",
    "    compression=None,\n",
    "    index=False\n",
    ")"
   ]
  },
  {
   "cell_type": "code",
   "execution_count": 87,
   "id": "72b5f93c-daee-4797-a17a-d715bc7a6785",
   "metadata": {},
   "outputs": [
    {
     "name": "stdout",
     "output_type": "stream",
     "text": [
      "new parquet file size is 65.46 MB\n"
     ]
    }
   ],
   "source": [
    "output_size = round(os.path.getsize(output_file) / (1024 * 1024), 2)\n",
    "print (f\"new parquet file size is {output_size} MB\")\n"
   ]
  },
  {
   "cell_type": "code",
   "execution_count": 88,
   "id": "f09736db-1a41-48f8-8ddf-936dfa535b2d",
   "metadata": {},
   "outputs": [
    {
     "data": {
      "text/html": [
       "<div>\n",
       "<style scoped>\n",
       "    .dataframe tbody tr th:only-of-type {\n",
       "        vertical-align: middle;\n",
       "    }\n",
       "\n",
       "    .dataframe tbody tr th {\n",
       "        vertical-align: top;\n",
       "    }\n",
       "\n",
       "    .dataframe thead th {\n",
       "        text-align: right;\n",
       "    }\n",
       "</style>\n",
       "<table border=\"1\" class=\"dataframe\">\n",
       "  <thead>\n",
       "    <tr style=\"text-align: right;\">\n",
       "      <th></th>\n",
       "      <th>ride_id</th>\n",
       "      <th>prediction</th>\n",
       "    </tr>\n",
       "  </thead>\n",
       "  <tbody>\n",
       "    <tr>\n",
       "      <th>0</th>\n",
       "      <td>2023/03_0</td>\n",
       "      <td>16.245906</td>\n",
       "    </tr>\n",
       "    <tr>\n",
       "      <th>1</th>\n",
       "      <td>2023/03_1</td>\n",
       "      <td>26.134796</td>\n",
       "    </tr>\n",
       "    <tr>\n",
       "      <th>2</th>\n",
       "      <td>2023/03_2</td>\n",
       "      <td>11.884264</td>\n",
       "    </tr>\n",
       "    <tr>\n",
       "      <th>3</th>\n",
       "      <td>2023/03_3</td>\n",
       "      <td>11.997720</td>\n",
       "    </tr>\n",
       "    <tr>\n",
       "      <th>4</th>\n",
       "      <td>2023/03_4</td>\n",
       "      <td>10.234486</td>\n",
       "    </tr>\n",
       "    <tr>\n",
       "      <th>...</th>\n",
       "      <td>...</td>\n",
       "      <td>...</td>\n",
       "    </tr>\n",
       "    <tr>\n",
       "      <th>3316211</th>\n",
       "      <td>2023/03_3403761</td>\n",
       "      <td>11.952635</td>\n",
       "    </tr>\n",
       "    <tr>\n",
       "      <th>3316212</th>\n",
       "      <td>2023/03_3403762</td>\n",
       "      <td>20.049958</td>\n",
       "    </tr>\n",
       "    <tr>\n",
       "      <th>3316213</th>\n",
       "      <td>2023/03_3403763</td>\n",
       "      <td>11.595336</td>\n",
       "    </tr>\n",
       "    <tr>\n",
       "      <th>3316214</th>\n",
       "      <td>2023/03_3403764</td>\n",
       "      <td>13.113178</td>\n",
       "    </tr>\n",
       "    <tr>\n",
       "      <th>3316215</th>\n",
       "      <td>2023/03_3403765</td>\n",
       "      <td>12.899992</td>\n",
       "    </tr>\n",
       "  </tbody>\n",
       "</table>\n",
       "<p>3316216 rows × 2 columns</p>\n",
       "</div>"
      ],
      "text/plain": [
       "                 ride_id  prediction\n",
       "0              2023/03_0   16.245906\n",
       "1              2023/03_1   26.134796\n",
       "2              2023/03_2   11.884264\n",
       "3              2023/03_3   11.997720\n",
       "4              2023/03_4   10.234486\n",
       "...                  ...         ...\n",
       "3316211  2023/03_3403761   11.952635\n",
       "3316212  2023/03_3403762   20.049958\n",
       "3316213  2023/03_3403763   11.595336\n",
       "3316214  2023/03_3403764   13.113178\n",
       "3316215  2023/03_3403765   12.899992\n",
       "\n",
       "[3316216 rows x 2 columns]"
      ]
     },
     "execution_count": 88,
     "metadata": {},
     "output_type": "execute_result"
    }
   ],
   "source": [
    "dg = pd.read_parquet(output_file)\n",
    "dg\n"
   ]
  },
  {
   "cell_type": "code",
   "execution_count": 89,
   "id": "4d4a8693-0472-4ed7-b5c0-988818c015c2",
   "metadata": {},
   "outputs": [
    {
     "name": "stdout",
     "output_type": "stream",
     "text": [
      "Mean Predicted Duration: 14.2\n"
     ]
    }
   ],
   "source": [
    "mean_predicted_duration = round(np.mean(y_pred), 2)  # Calculate mean\n",
    "print(f\"Mean Predicted Duration: {mean_predicted_duration}\")"
   ]
  },
  {
   "cell_type": "code",
   "execution_count": null,
   "id": "914a6502-01b1-4232-be06-2fcb26134844",
   "metadata": {},
   "outputs": [],
   "source": []
  },
  {
   "cell_type": "code",
   "execution_count": null,
   "id": "2e4d3aeb-eb7d-4dfd-8681-7bf450f362f8",
   "metadata": {},
   "outputs": [],
   "source": []
  },
  {
   "cell_type": "code",
   "execution_count": null,
   "id": "2e3d6e80-025b-45a4-b8b3-037e623106a1",
   "metadata": {},
   "outputs": [],
   "source": []
  }
 ],
 "metadata": {
  "kernelspec": {
   "display_name": "Python 3 (ipykernel)",
   "language": "python",
   "name": "python3"
  },
  "language_info": {
   "codemirror_mode": {
    "name": "ipython",
    "version": 3
   },
   "file_extension": ".py",
   "mimetype": "text/x-python",
   "name": "python",
   "nbconvert_exporter": "python",
   "pygments_lexer": "ipython3",
   "version": "3.9.6"
  }
 },
 "nbformat": 4,
 "nbformat_minor": 5
}
